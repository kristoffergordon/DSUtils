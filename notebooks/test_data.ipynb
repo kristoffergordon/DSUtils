{
 "cells": [
  {
   "cell_type": "code",
   "execution_count": 4,
   "id": "0087a55a-d7e4-4c52-89e0-f5843b91f898",
   "metadata": {},
   "outputs": [],
   "source": [
    "import numpy as np\n",
    "import pandas as pd\n",
    "import DSUtils as dsu"
   ]
  },
  {
   "cell_type": "code",
   "execution_count": 5,
   "id": "8eebf078-24cb-4313-8298-e7d23531e49f",
   "metadata": {},
   "outputs": [],
   "source": [
    "df = pd.DataFrame(\n",
    "    {\n",
    "        \"A\": [1, 2, 3, 4, 5],\n",
    "        \"B\": [\"a\", \"b\", \"c\", \"d\", \"e\"],\n",
    "        \"C\": [3, \"b\", 5, \"d\", 7],\n",
    "        \"D\": [1.0, 2.0, np.nan, 4.0, 5.0],\n",
    "    }\n",
    ")"
   ]
  },
  {
   "cell_type": "code",
   "execution_count": 6,
   "id": "748574f2-97a0-4602-93de-aa9fa96e354e",
   "metadata": {},
   "outputs": [
    {
     "ename": "AttributeError",
     "evalue": "module 'DSUtils' has no attribute 'data'",
     "output_type": "error",
     "traceback": [
      "\u001b[0;31m---------------------------------------------------------------------------\u001b[0m",
      "\u001b[0;31mAttributeError\u001b[0m                            Traceback (most recent call last)",
      "\u001b[0;32m<ipython-input-6-5494162c7095>\u001b[0m in \u001b[0;36m<module>\u001b[0;34m\u001b[0m\n\u001b[0;32m----> 1\u001b[0;31m \u001b[0moverview\u001b[0m \u001b[0;34m=\u001b[0m \u001b[0mdsu\u001b[0m\u001b[0;34m.\u001b[0m\u001b[0mdata\u001b[0m\u001b[0;34m.\u001b[0m\u001b[0mdata_overview\u001b[0m\u001b[0;34m(\u001b[0m\u001b[0mdf\u001b[0m\u001b[0;34m)\u001b[0m\u001b[0;34m\u001b[0m\u001b[0;34m\u001b[0m\u001b[0m\n\u001b[0m\u001b[1;32m      2\u001b[0m \u001b[0moverview\u001b[0m\u001b[0;34m\u001b[0m\u001b[0;34m\u001b[0m\u001b[0m\n",
      "\u001b[0;31mAttributeError\u001b[0m: module 'DSUtils' has no attribute 'data'"
     ]
    }
   ],
   "source": [
    "overview = dsu.data.data_overview(df)\n",
    "overview"
   ]
  },
  {
   "cell_type": "code",
   "execution_count": null,
   "id": "8bea2c3a-c587-49e0-bb28-9a5339f8be77",
   "metadata": {},
   "outputs": [],
   "source": [
    "missing = dsu.data.missing_data(df)\n",
    "missing"
   ]
  },
  {
   "cell_type": "code",
   "execution_count": null,
   "id": "da7f9f32-26f2-4603-a416-e274842da7c2",
   "metadata": {},
   "outputs": [],
   "source": [
    "dsu.data.reduce_mem_usage(df)"
   ]
  },
  {
   "cell_type": "code",
   "execution_count": null,
   "id": "ffedfab9-6623-493a-9d95-3adf4ef0960e",
   "metadata": {},
   "outputs": [],
   "source": []
  }
 ],
 "metadata": {
  "kernelspec": {
   "display_name": "Python 3",
   "language": "python",
   "name": "python3"
  },
  "language_info": {
   "codemirror_mode": {
    "name": "ipython",
    "version": 3
   },
   "file_extension": ".py",
   "mimetype": "text/x-python",
   "name": "python",
   "nbconvert_exporter": "python",
   "pygments_lexer": "ipython3",
   "version": "3.8.8"
  }
 },
 "nbformat": 4,
 "nbformat_minor": 5
}
